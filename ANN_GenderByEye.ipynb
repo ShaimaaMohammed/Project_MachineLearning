{
 "cells": [
  {
   "cell_type": "code",
   "execution_count": 36,
   "id": "612c689f",
   "metadata": {},
   "outputs": [],
   "source": [
    "import tensorflow as tf\n",
    "from tensorflow.keras.models import Sequential\n",
    "from tensorflow.keras.layers import Flatten, Dense, Dropout, BatchNormalization\n",
    "from tensorflow.keras.preprocessing.image import ImageDataGenerator\n",
    "from sklearn import svm, metrics, datasets\n",
    "from sklearn.metrics import confusion_matrix, recall_score\n",
    "import matplotlib.pyplot as plt\n",
    "import seaborn as sns\n",
    "import numpy as np\n",
    "import cv2"
   ]
  },
  {
   "cell_type": "code",
   "execution_count": 5,
   "id": "42c01692",
   "metadata": {},
   "outputs": [],
   "source": [
    "train_path = r\"C:\\Users\\BlackFlameSG\\Documents\\Python Scripts\\ML\\Project\\ANN_Image\\gender_eye\\data\\train\"\n",
    "test_path = r\"C:\\Users\\BlackFlameSG\\Documents\\Python Scripts\\ML\\Project\\ANN_Image\\gender_eye\\data\\test\""
   ]
  },
  {
   "cell_type": "code",
   "execution_count": 110,
   "id": "8d0c7c9d",
   "metadata": {},
   "outputs": [
    {
     "name": "stdout",
     "output_type": "stream",
     "text": [
      "Found 8298 images belonging to 2 classes.\n",
      "Found 921 images belonging to 2 classes.\n"
     ]
    }
   ],
   "source": [
    "#this generator is like an image filter which first normalizes the data by dividing each element by 255 so it's in the range 0-1\n",
    "#second it splits the data into 20% validation and 80% training\n",
    "training_generator = ImageDataGenerator(rescale=1./255,\n",
    "                                        validation_split=0.1)\n",
    "#now we load the training data from our directory\n",
    "training_dataset = training_generator.flow_from_directory(train_path,\n",
    "                                                        target_size = (32, 32),\n",
    "                                                        batch_size = 64,\n",
    "                                                        subset = 'training',\n",
    "                                                        color_mode=\"grayscale\",\n",
    "                                                        interpolation=\"bicubic\",\n",
    "                                                        class_mode='binary',\n",
    "                                                        shuffle = True)\n",
    "#here we load the validation data\n",
    "validation_dataset = training_generator.flow_from_directory(train_path,\n",
    "                                                        target_size = (32, 32),\n",
    "                                                        batch_size = 64,\n",
    "                                                        subset = 'validation',\n",
    "                                                        color_mode=\"grayscale\",\n",
    "                                                        interpolation=\"bicubic\",\n",
    "                                                        class_mode = 'binary',\n",
    "                                                        shuffle = True)\n"
   ]
  },
  {
   "cell_type": "code",
   "execution_count": 111,
   "id": "65115f0b",
   "metadata": {},
   "outputs": [
    {
     "data": {
      "text/plain": [
       "{'femaleeyes': 0, 'maleeyes': 1}"
      ]
     },
     "execution_count": 111,
     "metadata": {},
     "output_type": "execute_result"
    }
   ],
   "source": [
    "#it prints the classes\n",
    "training_dataset.class_indices"
   ]
  },
  {
   "cell_type": "code",
   "execution_count": 112,
   "id": "a9208e9d",
   "metadata": {},
   "outputs": [
    {
     "name": "stdout",
     "output_type": "stream",
     "text": [
      "Found 2306 images belonging to 2 classes.\n"
     ]
    }
   ],
   "source": [
    "#the generator for the test\n",
    "test_generator = ImageDataGenerator(rescale=1./255)\n",
    "#we load the test data\n",
    "test_dataset = test_generator.flow_from_directory(test_path,\n",
    "                                                target_size = (32, 32),\n",
    "                                                batch_size = 1,\n",
    "                                                color_mode=\"grayscale\",\n",
    "                                                class_mode = 'binary',\n",
    "                                                shuffle = False)"
   ]
  },
  {
   "cell_type": "code",
   "execution_count": 121,
   "id": "721aca3b",
   "metadata": {},
   "outputs": [],
   "source": [
    "#the model starts here sequential is the standard for ANN\n",
    "model = Sequential()\n",
    "\n",
    "model.add(Flatten(input_shape=(32,32,1)))\n",
    "model.add(Dense(64, kernel_regularizer=tf.keras.regularizers.l2(0.001), activation='relu'))\n",
    "model.add(Dropout(0.2))\n",
    "model.add(Dense(128, kernel_regularizer=tf.keras.regularizers.l2(0.001), activation='relu'))\n",
    "model.add(Dropout(0.2))\n",
    "model.add(Dense(64, kernel_regularizer=tf.keras.regularizers.l2(0.001), activation='relu'))\n",
    "\n",
    "model.add(Dense(1, activation='sigmoid'))"
   ]
  },
  {
   "cell_type": "code",
   "execution_count": 122,
   "id": "becf756b",
   "metadata": {},
   "outputs": [
    {
     "name": "stdout",
     "output_type": "stream",
     "text": [
      "Model: \"sequential_14\"\n",
      "_________________________________________________________________\n",
      " Layer (type)                Output Shape              Param #   \n",
      "=================================================================\n",
      " flatten_13 (Flatten)        (None, 1024)              0         \n",
      "                                                                 \n",
      " dense_57 (Dense)            (None, 64)                65600     \n",
      "                                                                 \n",
      " dropout_17 (Dropout)        (None, 64)                0         \n",
      "                                                                 \n",
      " dense_58 (Dense)            (None, 128)               8320      \n",
      "                                                                 \n",
      " dropout_18 (Dropout)        (None, 128)               0         \n",
      "                                                                 \n",
      " dense_59 (Dense)            (None, 64)                8256      \n",
      "                                                                 \n",
      " dense_60 (Dense)            (None, 1)                 65        \n",
      "                                                                 \n",
      "=================================================================\n",
      "Total params: 82,241\n",
      "Trainable params: 82,241\n",
      "Non-trainable params: 0\n",
      "_________________________________________________________________\n"
     ]
    }
   ],
   "source": [
    "model.summary()"
   ]
  },
  {
   "cell_type": "code",
   "execution_count": 123,
   "id": "2e7c799c",
   "metadata": {},
   "outputs": [],
   "source": [
    "#this here is the optimizer we choose SGD with is gradient descent with momentum which is a better model\n",
    "opti = tf.keras.optimizers.SGD(learning_rate=0.003,momentum = 0.5)\n",
    "#here we compile the model and binary cross entropy is our chosen loss function and it's the best loss function for binary classification\n",
    "model.compile(optimizer=opti, loss='binary_crossentropy', metrics = ['accuracy'])"
   ]
  },
  {
   "cell_type": "code",
   "execution_count": 124,
   "id": "fa0c7f66",
   "metadata": {},
   "outputs": [
    {
     "name": "stdout",
     "output_type": "stream",
     "text": [
      "Epoch 1/50\n",
      "129/130 [============================>.] - ETA: 0s - loss: 0.9786 - accuracy: 0.5555\n",
      "Epoch 00001: val_loss improved from inf to 0.95738, saving model to weights.h5\n",
      "130/130 [==============================] - 7s 49ms/step - loss: 0.9785 - accuracy: 0.5560 - val_loss: 0.9574 - val_accuracy: 0.6460\n",
      "Epoch 2/50\n",
      "130/130 [==============================] - ETA: 0s - loss: 0.9592 - accuracy: 0.5927\n",
      "Epoch 00002: val_loss improved from 0.95738 to 0.94067, saving model to weights.h5\n",
      "130/130 [==============================] - 6s 48ms/step - loss: 0.9592 - accuracy: 0.5927 - val_loss: 0.9407 - val_accuracy: 0.6786\n",
      "Epoch 3/50\n",
      "129/130 [============================>.] - ETA: 0s - loss: 0.9391 - accuracy: 0.6293\n",
      "Epoch 00003: val_loss improved from 0.94067 to 0.90962, saving model to weights.h5\n",
      "130/130 [==============================] - 6s 48ms/step - loss: 0.9388 - accuracy: 0.6295 - val_loss: 0.9096 - val_accuracy: 0.7177\n",
      "Epoch 4/50\n",
      "129/130 [============================>.] - ETA: 0s - loss: 0.9116 - accuracy: 0.6695\n",
      "Epoch 00004: val_loss improved from 0.90962 to 0.87961, saving model to weights.h5\n",
      "130/130 [==============================] - 6s 48ms/step - loss: 0.9118 - accuracy: 0.6693 - val_loss: 0.8796 - val_accuracy: 0.7275\n",
      "Epoch 5/50\n",
      "130/130 [==============================] - ETA: 0s - loss: 0.8899 - accuracy: 0.6958\n",
      "Epoch 00005: val_loss improved from 0.87961 to 0.85415, saving model to weights.h5\n",
      "130/130 [==============================] - 6s 48ms/step - loss: 0.8899 - accuracy: 0.6958 - val_loss: 0.8542 - val_accuracy: 0.7438\n",
      "Epoch 6/50\n",
      "129/130 [============================>.] - ETA: 0s - loss: 0.8705 - accuracy: 0.7089\n",
      "Epoch 00006: val_loss improved from 0.85415 to 0.83194, saving model to weights.h5\n",
      "130/130 [==============================] - 6s 48ms/step - loss: 0.8709 - accuracy: 0.7084 - val_loss: 0.8319 - val_accuracy: 0.7546\n",
      "Epoch 7/50\n",
      "130/130 [==============================] - ETA: 0s - loss: 0.8530 - accuracy: 0.7151\n",
      "Epoch 00007: val_loss improved from 0.83194 to 0.81497, saving model to weights.h5\n",
      "130/130 [==============================] - 6s 48ms/step - loss: 0.8530 - accuracy: 0.7151 - val_loss: 0.8150 - val_accuracy: 0.7622\n",
      "Epoch 8/50\n",
      "129/130 [============================>.] - ETA: 0s - loss: 0.8378 - accuracy: 0.7315\n",
      "Epoch 00008: val_loss improved from 0.81497 to 0.79631, saving model to weights.h5\n",
      "130/130 [==============================] - 6s 48ms/step - loss: 0.8379 - accuracy: 0.7314 - val_loss: 0.7963 - val_accuracy: 0.7579\n",
      "Epoch 9/50\n",
      "130/130 [==============================] - ETA: 0s - loss: 0.8254 - accuracy: 0.7364\n",
      "Epoch 00009: val_loss did not improve from 0.79631\n",
      "130/130 [==============================] - 6s 47ms/step - loss: 0.8254 - accuracy: 0.7364 - val_loss: 0.7981 - val_accuracy: 0.7383\n",
      "Epoch 10/50\n",
      "129/130 [============================>.] - ETA: 0s - loss: 0.8117 - accuracy: 0.7450\n",
      "Epoch 00010: val_loss improved from 0.79631 to 0.77293, saving model to weights.h5\n",
      "130/130 [==============================] - 6s 48ms/step - loss: 0.8123 - accuracy: 0.7445 - val_loss: 0.7729 - val_accuracy: 0.7818\n",
      "Epoch 11/50\n",
      "129/130 [============================>.] - ETA: 0s - loss: 0.8023 - accuracy: 0.7521\n",
      "Epoch 00011: val_loss improved from 0.77293 to 0.76611, saving model to weights.h5\n",
      "130/130 [==============================] - 6s 48ms/step - loss: 0.8021 - accuracy: 0.7523 - val_loss: 0.7661 - val_accuracy: 0.7883\n",
      "Epoch 12/50\n",
      "129/130 [============================>.] - ETA: 0s - loss: 0.7913 - accuracy: 0.7569\n",
      "Epoch 00012: val_loss did not improve from 0.76611\n",
      "130/130 [==============================] - 6s 47ms/step - loss: 0.7912 - accuracy: 0.7570 - val_loss: 0.7666 - val_accuracy: 0.7611\n",
      "Epoch 13/50\n",
      "130/130 [==============================] - ETA: 0s - loss: 0.7821 - accuracy: 0.7597\n",
      "Epoch 00013: val_loss improved from 0.76611 to 0.74686, saving model to weights.h5\n",
      "130/130 [==============================] - 6s 48ms/step - loss: 0.7821 - accuracy: 0.7597 - val_loss: 0.7469 - val_accuracy: 0.8013\n",
      "Epoch 14/50\n",
      "129/130 [============================>.] - ETA: 0s - loss: 0.7705 - accuracy: 0.7706\n",
      "Epoch 00014: val_loss improved from 0.74686 to 0.72984, saving model to weights.h5\n",
      "130/130 [==============================] - 6s 48ms/step - loss: 0.7701 - accuracy: 0.7709 - val_loss: 0.7298 - val_accuracy: 0.8013\n",
      "Epoch 15/50\n",
      "129/130 [============================>.] - ETA: 0s - loss: 0.7621 - accuracy: 0.7838\n",
      "Epoch 00015: val_loss improved from 0.72984 to 0.72676, saving model to weights.h5\n",
      "130/130 [==============================] - 6s 47ms/step - loss: 0.7622 - accuracy: 0.7837 - val_loss: 0.7268 - val_accuracy: 0.7970\n",
      "Epoch 16/50\n",
      "129/130 [============================>.] - ETA: 0s - loss: 0.7563 - accuracy: 0.7867\n",
      "Epoch 00016: val_loss improved from 0.72676 to 0.71611, saving model to weights.h5\n",
      "130/130 [==============================] - 6s 48ms/step - loss: 0.7565 - accuracy: 0.7866 - val_loss: 0.7161 - val_accuracy: 0.8111\n",
      "Epoch 17/50\n",
      "129/130 [============================>.] - ETA: 0s - loss: 0.7446 - accuracy: 0.7909\n",
      "Epoch 00017: val_loss improved from 0.71611 to 0.71236, saving model to weights.h5\n",
      "130/130 [==============================] - 6s 48ms/step - loss: 0.7446 - accuracy: 0.7903 - val_loss: 0.7124 - val_accuracy: 0.8132\n",
      "Epoch 18/50\n",
      "129/130 [============================>.] - ETA: 0s - loss: 0.7355 - accuracy: 0.7957\n",
      "Epoch 00018: val_loss improved from 0.71236 to 0.69442, saving model to weights.h5\n",
      "130/130 [==============================] - 6s 47ms/step - loss: 0.7351 - accuracy: 0.7959 - val_loss: 0.6944 - val_accuracy: 0.8230\n",
      "Epoch 19/50\n",
      "129/130 [============================>.] - ETA: 0s - loss: 0.7334 - accuracy: 0.7975\n",
      "Epoch 00019: val_loss did not improve from 0.69442\n",
      "130/130 [==============================] - 6s 46ms/step - loss: 0.7332 - accuracy: 0.7978 - val_loss: 0.7010 - val_accuracy: 0.8132\n",
      "Epoch 20/50\n",
      "129/130 [============================>.] - ETA: 0s - loss: 0.7271 - accuracy: 0.7995\n",
      "Epoch 00020: val_loss improved from 0.69442 to 0.68278, saving model to weights.h5\n",
      "130/130 [==============================] - 6s 48ms/step - loss: 0.7268 - accuracy: 0.7998 - val_loss: 0.6828 - val_accuracy: 0.8219\n",
      "Epoch 21/50\n",
      "129/130 [============================>.] - ETA: 0s - loss: 0.7178 - accuracy: 0.8025\n",
      "Epoch 00021: val_loss improved from 0.68278 to 0.67897, saving model to weights.h5\n",
      "130/130 [==============================] - 6s 48ms/step - loss: 0.7165 - accuracy: 0.8038 - val_loss: 0.6790 - val_accuracy: 0.8306\n",
      "Epoch 22/50\n",
      "129/130 [============================>.] - ETA: 0s - loss: 0.7108 - accuracy: 0.8108\n",
      "Epoch 00022: val_loss improved from 0.67897 to 0.66795, saving model to weights.h5\n",
      "130/130 [==============================] - 6s 50ms/step - loss: 0.7106 - accuracy: 0.8108 - val_loss: 0.6680 - val_accuracy: 0.8371\n",
      "Epoch 23/50\n",
      "130/130 [==============================] - ETA: 0s - loss: 0.7052 - accuracy: 0.8004 ETA: 1s - loss:\n",
      "Epoch 00023: val_loss improved from 0.66795 to 0.66445, saving model to weights.h5\n",
      "130/130 [==============================] - 6s 49ms/step - loss: 0.7052 - accuracy: 0.8004 - val_loss: 0.6644 - val_accuracy: 0.8404\n",
      "Epoch 24/50\n",
      "129/130 [============================>.] - ETA: 0s - loss: 0.6981 - accuracy: 0.8162\n",
      "Epoch 00024: val_loss improved from 0.66445 to 0.65639, saving model to weights.h5\n",
      "130/130 [==============================] - 6s 48ms/step - loss: 0.6980 - accuracy: 0.8165 - val_loss: 0.6564 - val_accuracy: 0.8393\n",
      "Epoch 25/50\n",
      "130/130 [==============================] - ETA: 0s - loss: 0.6952 - accuracy: 0.8151\n",
      "Epoch 00025: val_loss did not improve from 0.65639\n",
      "130/130 [==============================] - 6s 47ms/step - loss: 0.6952 - accuracy: 0.8151 - val_loss: 0.6631 - val_accuracy: 0.8306\n",
      "Epoch 26/50\n",
      "129/130 [============================>.] - ETA: 0s - loss: 0.6841 - accuracy: 0.8198\n",
      "Epoch 00026: val_loss improved from 0.65639 to 0.65143, saving model to weights.h5\n",
      "130/130 [==============================] - 6s 47ms/step - loss: 0.6841 - accuracy: 0.8200 - val_loss: 0.6514 - val_accuracy: 0.8436\n",
      "Epoch 27/50\n",
      "129/130 [============================>.] - ETA: 0s - loss: 0.6814 - accuracy: 0.8250\n",
      "Epoch 00027: val_loss did not improve from 0.65143\n",
      "130/130 [==============================] - 6s 47ms/step - loss: 0.6824 - accuracy: 0.8239 - val_loss: 0.6518 - val_accuracy: 0.8393\n"
     ]
    },
    {
     "name": "stdout",
     "output_type": "stream",
     "text": [
      "Epoch 28/50\n",
      "129/130 [============================>.] - ETA: 0s - loss: 0.6790 - accuracy: 0.8227\n",
      "Epoch 00028: val_loss improved from 0.65143 to 0.64508, saving model to weights.h5\n",
      "130/130 [==============================] - 6s 48ms/step - loss: 0.6786 - accuracy: 0.8231 - val_loss: 0.6451 - val_accuracy: 0.8404\n",
      "Epoch 29/50\n",
      "129/130 [============================>.] - ETA: 0s - loss: 0.6733 - accuracy: 0.8278\n",
      "Epoch 00029: val_loss improved from 0.64508 to 0.64400, saving model to weights.h5\n",
      "130/130 [==============================] - 6s 48ms/step - loss: 0.6734 - accuracy: 0.8279 - val_loss: 0.6440 - val_accuracy: 0.8458\n",
      "Epoch 30/50\n",
      "129/130 [============================>.] - ETA: 0s - loss: 0.6765 - accuracy: 0.8235\n",
      "Epoch 00030: val_loss improved from 0.64400 to 0.63888, saving model to weights.h5\n",
      "130/130 [==============================] - 6s 48ms/step - loss: 0.6758 - accuracy: 0.8238 - val_loss: 0.6389 - val_accuracy: 0.8415\n",
      "Epoch 31/50\n",
      "130/130 [==============================] - ETA: 0s - loss: 0.6745 - accuracy: 0.8244\n",
      "Epoch 00031: val_loss did not improve from 0.63888\n",
      "130/130 [==============================] - 6s 47ms/step - loss: 0.6745 - accuracy: 0.8244 - val_loss: 0.6411 - val_accuracy: 0.8393\n",
      "Epoch 32/50\n",
      "129/130 [============================>.] - ETA: 0s - loss: 0.6673 - accuracy: 0.8256\n",
      "Epoch 00032: val_loss did not improve from 0.63888\n",
      "130/130 [==============================] - 6s 47ms/step - loss: 0.6670 - accuracy: 0.8257 - val_loss: 0.6391 - val_accuracy: 0.8426\n",
      "Epoch 33/50\n",
      "129/130 [============================>.] - ETA: 0s - loss: 0.6618 - accuracy: 0.8284\n",
      "Epoch 00033: val_loss improved from 0.63888 to 0.62991, saving model to weights.h5\n",
      "130/130 [==============================] - 6s 47ms/step - loss: 0.6618 - accuracy: 0.8283 - val_loss: 0.6299 - val_accuracy: 0.8458\n",
      "Epoch 34/50\n",
      "129/130 [============================>.] - ETA: 0s - loss: 0.6566 - accuracy: 0.8329\n",
      "Epoch 00034: val_loss improved from 0.62991 to 0.62972, saving model to weights.h5\n",
      "130/130 [==============================] - 6s 49ms/step - loss: 0.6569 - accuracy: 0.8329 - val_loss: 0.6297 - val_accuracy: 0.8426\n",
      "Epoch 35/50\n",
      "130/130 [==============================] - ETA: 0s - loss: 0.6577 - accuracy: 0.8306\n",
      "Epoch 00035: val_loss did not improve from 0.62972\n",
      "130/130 [==============================] - 6s 47ms/step - loss: 0.6577 - accuracy: 0.8306 - val_loss: 0.6471 - val_accuracy: 0.8328\n",
      "Epoch 36/50\n",
      "129/130 [============================>.] - ETA: 0s - loss: 0.6497 - accuracy: 0.8353\n",
      "Epoch 00036: val_loss did not improve from 0.62972\n",
      "130/130 [==============================] - 6s 47ms/step - loss: 0.6492 - accuracy: 0.8359 - val_loss: 0.6331 - val_accuracy: 0.8512\n",
      "Epoch 37/50\n",
      "129/130 [============================>.] - ETA: 0s - loss: 0.6468 - accuracy: 0.8357\n",
      "Epoch 00037: val_loss improved from 0.62972 to 0.62462, saving model to weights.h5\n",
      "130/130 [==============================] - 6s 48ms/step - loss: 0.6471 - accuracy: 0.8356 - val_loss: 0.6246 - val_accuracy: 0.8491\n",
      "Epoch 38/50\n",
      "129/130 [============================>.] - ETA: 0s - loss: 0.6458 - accuracy: 0.8352\n",
      "Epoch 00038: val_loss did not improve from 0.62462\n",
      "130/130 [==============================] - 6s 46ms/step - loss: 0.6459 - accuracy: 0.8353 - val_loss: 0.6423 - val_accuracy: 0.8415\n",
      "Epoch 39/50\n",
      "129/130 [============================>.] - ETA: 0s - loss: 0.6424 - accuracy: 0.8380\n",
      "Epoch 00039: val_loss did not improve from 0.62462\n",
      "130/130 [==============================] - 6s 47ms/step - loss: 0.6417 - accuracy: 0.8383 - val_loss: 0.6318 - val_accuracy: 0.8480\n",
      "Epoch 40/50\n",
      "129/130 [============================>.] - ETA: 0s - loss: 0.6370 - accuracy: 0.8427\n",
      "Epoch 00040: val_loss did not improve from 0.62462\n",
      "130/130 [==============================] - 6s 47ms/step - loss: 0.6373 - accuracy: 0.8426 - val_loss: 0.6371 - val_accuracy: 0.8404\n",
      "Epoch 41/50\n",
      "130/130 [==============================] - ETA: 0s - loss: 0.6462 - accuracy: 0.8351\n",
      "Epoch 00041: val_loss improved from 0.62462 to 0.62175, saving model to weights.h5\n",
      "130/130 [==============================] - 7s 56ms/step - loss: 0.6462 - accuracy: 0.8351 - val_loss: 0.6217 - val_accuracy: 0.8523\n",
      "Epoch 42/50\n",
      "130/130 [==============================] - ETA: 0s - loss: 0.6341 - accuracy: 0.8384\n",
      "Epoch 00042: val_loss improved from 0.62175 to 0.61952, saving model to weights.h5\n",
      "130/130 [==============================] - 7s 57ms/step - loss: 0.6341 - accuracy: 0.8384 - val_loss: 0.6195 - val_accuracy: 0.8447\n",
      "Epoch 43/50\n",
      "129/130 [============================>.] - ETA: 0s - loss: 0.6355 - accuracy: 0.8405\n",
      "Epoch 00043: val_loss improved from 0.61952 to 0.61868, saving model to weights.h5\n",
      "130/130 [==============================] - 8s 59ms/step - loss: 0.6348 - accuracy: 0.8410 - val_loss: 0.6187 - val_accuracy: 0.8480\n",
      "Epoch 44/50\n",
      "129/130 [============================>.] - ETA: 0s - loss: 0.6293 - accuracy: 0.8420\n",
      "Epoch 00044: val_loss improved from 0.61868 to 0.61461, saving model to weights.h5\n",
      "130/130 [==============================] - 7s 51ms/step - loss: 0.6307 - accuracy: 0.8415 - val_loss: 0.6146 - val_accuracy: 0.8469\n",
      "Epoch 45/50\n",
      "130/130 [==============================] - ETA: 0s - loss: 0.6332 - accuracy: 0.8372\n",
      "Epoch 00045: val_loss did not improve from 0.61461\n",
      "130/130 [==============================] - 7s 52ms/step - loss: 0.6332 - accuracy: 0.8372 - val_loss: 0.6261 - val_accuracy: 0.8436\n",
      "Epoch 46/50\n",
      "130/130 [==============================] - ETA: 0s - loss: 0.6253 - accuracy: 0.8451\n",
      "Epoch 00046: val_loss did not improve from 0.61461\n",
      "130/130 [==============================] - 7s 51ms/step - loss: 0.6253 - accuracy: 0.8451 - val_loss: 0.6268 - val_accuracy: 0.8458\n",
      "Epoch 47/50\n",
      "130/130 [==============================] - ETA: 0s - loss: 0.6257 - accuracy: 0.8444\n",
      "Epoch 00047: val_loss did not improve from 0.61461\n",
      "130/130 [==============================] - 6s 47ms/step - loss: 0.6257 - accuracy: 0.8444 - val_loss: 0.6493 - val_accuracy: 0.8274\n",
      "Epoch 48/50\n",
      "130/130 [==============================] - ETA: 0s - loss: 0.6221 - accuracy: 0.8438\n",
      "Epoch 00048: val_loss improved from 0.61461 to 0.61369, saving model to weights.h5\n",
      "130/130 [==============================] - 13s 102ms/step - loss: 0.6221 - accuracy: 0.8438 - val_loss: 0.6137 - val_accuracy: 0.8458\n",
      "Epoch 49/50\n",
      "129/130 [============================>.] - ETA: 0s - loss: 0.6245 - accuracy: 0.8431\n",
      "Epoch 00049: val_loss improved from 0.61369 to 0.61017, saving model to weights.h5\n",
      "130/130 [==============================] - 6s 48ms/step - loss: 0.6244 - accuracy: 0.8432 - val_loss: 0.6102 - val_accuracy: 0.8458\n",
      "Epoch 50/50\n",
      "130/130 [==============================] - ETA: 0s - loss: 0.6203 - accuracy: 0.8448\n",
      "Epoch 00050: val_loss did not improve from 0.61017\n",
      "130/130 [==============================] - 7s 52ms/step - loss: 0.6203 - accuracy: 0.8448 - val_loss: 0.6104 - val_accuracy: 0.8469\n"
     ]
    }
   ],
   "source": [
    "#checkpoint to hold the best weights found yet\n",
    "checkpoint = tf.keras.callbacks.ModelCheckpoint(filepath=\"weights.h5\", verbose=1, save_best_only=True)\n",
    "#here we train the model\n",
    "historic = model.fit(training_dataset, validation_data = validation_dataset, epochs=50, verbose=1, callbacks=[checkpoint])"
   ]
  },
  {
   "cell_type": "code",
   "execution_count": 127,
   "id": "5b06c848",
   "metadata": {},
   "outputs": [
    {
     "name": "stdout",
     "output_type": "stream",
     "text": [
      "dict_keys(['loss', 'accuracy', 'val_loss', 'val_accuracy'])\n"
     ]
    },
    {
     "data": {
      "image/png": "[encoded data removed]",
      "text/plain": [
       "<Figure size 432x288 with 1 Axes>"
      ]
     },
     "metadata": {
      "needs_background": "light"
     },
     "output_type": "display_data"
    }
   ],
   "source": [
    "print(historic.history.keys())\n",
    "plt.plot(historic.history['loss'])\n",
    "plt.plot(historic.history['val_loss'])\n",
    "plt.title('model loss')\n",
    "plt.ylabel('loss')\n",
    "plt.xlabel('epoch')\n",
    "plt.legend(['train', 'validation'], loc='upper left')\n",
    "plt.show()"
   ]
  },
  {
   "cell_type": "code",
   "execution_count": 128,
   "id": "8e0a638e",
   "metadata": {},
   "outputs": [
    {
     "name": "stdout",
     "output_type": "stream",
     "text": [
      "dict_keys(['loss', 'accuracy', 'val_loss', 'val_accuracy'])\n"
     ]
    },
    {
     "data": {
      "image/png": "[encoded data removed]",
      "text/plain": [
       "<Figure size 432x288 with 1 Axes>"
      ]
     },
     "metadata": {
      "needs_background": "light"
     },
     "output_type": "display_data"
    }
   ],
   "source": [
    "print(historic.history.keys())\n",
    "plt.plot(historic.history['accuracy'])\n",
    "plt.plot(historic.history['val_accuracy'])\n",
    "plt.title('model accuracy')\n",
    "plt.ylabel('accuracy')\n",
    "plt.xlabel('epoch')\n",
    "plt.legend(['train', 'validation'], loc='upper left')\n",
    "plt.show()"
   ]
  },
  {
   "cell_type": "code",
   "execution_count": 81,
   "id": "3b74588b",
   "metadata": {},
   "outputs": [
    {
     "name": "stdout",
     "output_type": "stream",
     "text": [
      "(2306, 32, 32, 1) (2306,)\n"
     ]
    }
   ],
   "source": [
    "test_dataset.reset()\n",
    "X_test, y_test = next(test_dataset)\n",
    "for i in range(len(test_dataset)-1): #1st batch is already fetched before the for loop.\n",
    "  img, label = next(test_dataset)\n",
    "  X_test = np.append(X_test, img, axis=0 )\n",
    "  y_test = np.append(y_test, label, axis=0)\n",
    "print(X_test.shape, y_test.shape)"
   ]
  },
  {
   "cell_type": "code",
   "execution_count": 63,
   "id": "b9c2ed90",
   "metadata": {},
   "outputs": [
    {
     "data": {
      "text/plain": [
       "2306"
      ]
     },
     "execution_count": 63,
     "metadata": {},
     "output_type": "execute_result"
    }
   ],
   "source": [
    "len(X_test)"
   ]
  },
  {
   "cell_type": "code",
   "execution_count": 129,
   "id": "a8f8279b",
   "metadata": {},
   "outputs": [
    {
     "name": "stdout",
     "output_type": "stream",
     "text": [
      "Recall: 0.8534258456201215\n"
     ]
    }
   ],
   "source": [
    "# Model Recall: what percentage of positive tuples are labelled as such?\n",
    "y_pred = np.around(model.predict(X_test))\n",
    "\n",
    "recall_average = recall_score(y_test,y_pred, average=\"micro\")\n",
    "\n",
    "print(\"Recall:\",recall_average)"
   ]
  },
  {
   "cell_type": "code",
   "execution_count": 130,
   "id": "296d8780",
   "metadata": {},
   "outputs": [
    {
     "data": {
      "text/plain": [
       "array([[ 827,  214],\n",
       "       [ 124, 1141]], dtype=int64)"
      ]
     },
     "execution_count": 130,
     "metadata": {},
     "output_type": "execute_result"
    }
   ],
   "source": [
    "#confusion matrix\n",
    "conf_matrix = confusion_matrix(y_test, y_pred)\n",
    "conf_matrix"
   ]
  },
  {
   "cell_type": "code",
   "execution_count": 131,
   "id": "5587465a",
   "metadata": {},
   "outputs": [
    {
     "data": {
      "text/plain": [
       "<AxesSubplot:>"
      ]
     },
     "execution_count": 131,
     "metadata": {},
     "output_type": "execute_result"
    },
    {
     "data": {
      "image/png": "[encoded data removed]",
      "text/plain": [
       "<Figure size 432x288 with 2 Axes>"
      ]
     },
     "metadata": {
      "needs_background": "light"
     },
     "output_type": "display_data"
    }
   ],
   "source": [
    "sns.heatmap(conf_matrix, annot=True)"
   ]
  },
  {
   "cell_type": "code",
   "execution_count": 132,
   "id": "bb5282f3",
   "metadata": {},
   "outputs": [
    {
     "data": {
      "image/png": "[encoded data removed]",
      "text/plain": [
       "<Figure size 432x288 with 1 Axes>"
      ]
     },
     "metadata": {
      "needs_background": "light"
     },
     "output_type": "display_data"
    }
   ],
   "source": [
    "fpr, tpr, _ = metrics.roc_curve(y_test, y_pred) #fpr = False Positive Rate, tpr = True Positive Rate\n",
    "roc_auc = metrics.auc(fpr, tpr)\n",
    "\n",
    "plt.title('ُEmployee Leaving Characteristic')\n",
    "plt.plot(fpr, tpr, label = 'AUC = %0.2f' % roc_auc)\n",
    "plt.legend(loc = 'lower right')\n",
    "plt.plot([0, 1], [0, 1])\n",
    "plt.xlim([0, 1])\n",
    "plt.ylim([0, 1])\n",
    "plt.ylabel('True Positive Rate')\n",
    "plt.xlabel('False Positive Rate')\n",
    "plt.show()"
   ]
  },
  {
   "cell_type": "code",
   "execution_count": null,
   "id": "65831cb1",
   "metadata": {},
   "outputs": [],
   "source": []
  }
 ],
 "metadata": {
  "kernelspec": {
   "display_name": "Python 3",
   "language": "python",
   "name": "python3"
  },
  "language_info": {
   "codemirror_mode": {
    "name": "ipython",
    "version": 3
   },
   "file_extension": ".py",
   "mimetype": "text/x-python",
   "name": "python",
   "nbconvert_exporter": "python",
   "pygments_lexer": "ipython3",
   "version": "3.8.8"
  }
 },
 "nbformat": 4,
 "nbformat_minor": 5
}
