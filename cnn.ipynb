{
  "nbformat": 4,
  "nbformat_minor": 0,
  "metadata": {
    "colab": {
      "name": "Untitled4.ipynb",
      "provenance": [],
      "collapsed_sections": []
    },
    "kernelspec": {
      "name": "python3",
      "display_name": "Python 3"
    },
    "language_info": {
      "name": "python"
    }
  },
  "cells": [
    {
      "cell_type": "code",
      "execution_count": 4,
      "metadata": {
        "colab": {
          "base_uri": "https://localhost:8080/",
          "height": 356
        },
        "id": "nJJ97qDLE2cC",
        "outputId": "a4d4e31a-1731-44b5-f5c1-77409d7fbaff"
      },
      "outputs": [
        {
          "output_type": "error",
          "ename": "FileNotFoundError",
          "evalue": "ignored",
          "traceback": [
            "\u001b[0;31m---------------------------------------------------------------------------\u001b[0m",
            "\u001b[0;31mFileNotFoundError\u001b[0m                         Traceback (most recent call last)",
            "\u001b[0;32m<ipython-input-4-e791cdf589c5>\u001b[0m in \u001b[0;36m<module>\u001b[0;34m()\u001b[0m\n\u001b[1;32m      6\u001b[0m \u001b[0;34m\u001b[0m\u001b[0m\n\u001b[1;32m      7\u001b[0m \u001b[0;31m# opening the zip file in READ mode\u001b[0m\u001b[0;34m\u001b[0m\u001b[0;34m\u001b[0m\u001b[0;34m\u001b[0m\u001b[0m\n\u001b[0;32m----> 8\u001b[0;31m \u001b[0;32mwith\u001b[0m \u001b[0mZipFile\u001b[0m\u001b[0;34m(\u001b[0m\u001b[0mfile_name\u001b[0m\u001b[0;34m,\u001b[0m \u001b[0;34m'r'\u001b[0m\u001b[0;34m)\u001b[0m \u001b[0;32mas\u001b[0m \u001b[0mzip\u001b[0m\u001b[0;34m:\u001b[0m\u001b[0;34m\u001b[0m\u001b[0;34m\u001b[0m\u001b[0m\n\u001b[0m\u001b[1;32m      9\u001b[0m     \u001b[0;31m# printing all the contents of the zip file\u001b[0m\u001b[0;34m\u001b[0m\u001b[0;34m\u001b[0m\u001b[0;34m\u001b[0m\u001b[0m\n\u001b[1;32m     10\u001b[0m     \u001b[0mzip\u001b[0m\u001b[0;34m.\u001b[0m\u001b[0mprintdir\u001b[0m\u001b[0;34m(\u001b[0m\u001b[0;34m)\u001b[0m\u001b[0;34m\u001b[0m\u001b[0;34m\u001b[0m\u001b[0m\n",
            "\u001b[0;32m/usr/lib/python3.7/zipfile.py\u001b[0m in \u001b[0;36m__init__\u001b[0;34m(self, file, mode, compression, allowZip64, compresslevel)\u001b[0m\n\u001b[1;32m   1238\u001b[0m             \u001b[0;32mwhile\u001b[0m \u001b[0;32mTrue\u001b[0m\u001b[0;34m:\u001b[0m\u001b[0;34m\u001b[0m\u001b[0;34m\u001b[0m\u001b[0m\n\u001b[1;32m   1239\u001b[0m                 \u001b[0;32mtry\u001b[0m\u001b[0;34m:\u001b[0m\u001b[0;34m\u001b[0m\u001b[0;34m\u001b[0m\u001b[0m\n\u001b[0;32m-> 1240\u001b[0;31m                     \u001b[0mself\u001b[0m\u001b[0;34m.\u001b[0m\u001b[0mfp\u001b[0m \u001b[0;34m=\u001b[0m \u001b[0mio\u001b[0m\u001b[0;34m.\u001b[0m\u001b[0mopen\u001b[0m\u001b[0;34m(\u001b[0m\u001b[0mfile\u001b[0m\u001b[0;34m,\u001b[0m \u001b[0mfilemode\u001b[0m\u001b[0;34m)\u001b[0m\u001b[0;34m\u001b[0m\u001b[0;34m\u001b[0m\u001b[0m\n\u001b[0m\u001b[1;32m   1241\u001b[0m                 \u001b[0;32mexcept\u001b[0m \u001b[0mOSError\u001b[0m\u001b[0;34m:\u001b[0m\u001b[0;34m\u001b[0m\u001b[0;34m\u001b[0m\u001b[0m\n\u001b[1;32m   1242\u001b[0m                     \u001b[0;32mif\u001b[0m \u001b[0mfilemode\u001b[0m \u001b[0;32min\u001b[0m \u001b[0mmodeDict\u001b[0m\u001b[0;34m:\u001b[0m\u001b[0;34m\u001b[0m\u001b[0;34m\u001b[0m\u001b[0m\n",
            "\u001b[0;31mFileNotFoundError\u001b[0m: [Errno 2] No such file or directory: 'archive.zip'"
          ]
        }
      ],
      "source": [
        "# importing required modules\n",
        "from zipfile import ZipFile\n",
        "  \n",
        "# specifying the zip file name\n",
        "file_name = \"archive.zip\"\n",
        "  \n",
        "# opening the zip file in READ mode\n",
        "with ZipFile(file_name, 'r') as zip:\n",
        "    # printing all the contents of the zip file\n",
        "    zip.printdir()\n",
        "    # extracting all the files\n",
        "    print('Extracting all the files now...')\n",
        "    zip.extractall()\n",
        "    print('Done!')"
      ]
    },
    {
      "cell_type": "code",
      "source": [
        "import tensorflow as tf\n",
        "from tensorflow.keras.layers import Conv2D,MaxPool2D,Dense,Flatten,Dropout\n",
        "from tensorflow.keras.models import Model\n",
        "from tensorflow.keras.preprocessing import image\n",
        "from tensorflow.keras.preprocessing.image import ImageDataGenerator,load_img\n",
        "from tensorflow.keras.models import Sequential\n",
        "import numpy as np"
      ],
      "metadata": {
        "id": "7-j0eksOKw__"
      },
      "execution_count": 3,
      "outputs": []
    },
    {
      "cell_type": "code",
      "source": [
        "train_datagen = ImageDataGenerator(rescale = 1./255,\n",
        "                                   shear_range = 0.2,\n",
        "                                   zoom_range = 0.2,\n",
        "                                   horizontal_flip = True)\n",
        "\n",
        "test_datagen = ImageDataGenerator(rescale = 1./255)"
      ],
      "metadata": {
        "id": "YFbsUhOTK05T"
      },
      "execution_count": 4,
      "outputs": []
    },
    {
      "cell_type": "code",
      "source": [
        "training_set = train_datagen.flow_from_directory('/content/MMAFEDB/train',\n",
        "                                                 target_size = (48, 48),\n",
        "                                                 batch_size = 32,\n",
        "                                                 color_mode='grayscale',\n",
        "                                                 class_mode = 'categorical')\n",
        "#Processing picture: 48*48 size, the number of samples processed in each training is 32, the picture becomes a grayscale mode\n",
        "test_set = test_datagen.flow_from_directory('/content/MMAFEDB/test',\n",
        "                                            target_size = (48, 48),\n",
        "                                            batch_size = 32,\n",
        "                                            color_mode='grayscale',\n",
        "                                            class_mode = 'categorical')"
      ],
      "metadata": {
        "colab": {
          "base_uri": "https://localhost:8080/"
        },
        "id": "OufHYk9aK7jV",
        "outputId": "7e84bbde-3d0b-4bbe-b8f6-9aa987aafe78"
      },
      "execution_count": 13,
      "outputs": [
        {
          "output_type": "stream",
          "name": "stdout",
          "text": [
            "Found 92968 images belonging to 7 classes.\n",
            "Found 17356 images belonging to 7 classes.\n"
          ]
        }
      ]
    },
    {
      "cell_type": "code",
      "source": [
        "def build_model():\n",
        "    model = Sequential()\n",
        "    model.add(Conv2D(filters=64,kernel_size=3,padding='same',activation='relu',input_shape=(48,48,1)))\n",
        "    #64 convolution kernels, the size is 3*3, the style remains unchanged, the activation function adopts relu, the input image size is 48*48, single channel\n",
        "    model.add(MaxPool2D(pool_size=2,strides=2))\n",
        "    #First pooling\n",
        "    model.add(Conv2D(filters=64,kernel_size=3,padding='same',activation='relu'))\n",
        "    model.add(MaxPool2D(pool_size=2,strides=2))\n",
        "    #Second pooling\n",
        "    model.add(Conv2D(filters=64,kernel_size=3,padding='same',activation='relu'))\n",
        "    model.add(MaxPool2D(pool_size=2,strides=2))\n",
        "    #Third pooling\n",
        "    model.add(Conv2D(filters=64,kernel_size=3,padding='same',activation='relu'))\n",
        "    model.add(MaxPool2D(pool_size=2,strides=2))\n",
        "    ##Fourth pooling\n",
        "    model.add(Conv2D(filters=64,kernel_size=3,padding='same',activation='relu',input_shape=(48,48,1)))\n",
        "    model.add(MaxPool2D(pool_size=2,strides=2))\n",
        "    #Fifth pooling\n",
        "    model.add(Flatten())\n",
        "    #After three fully connected layers\n",
        "    model.add(Dense(units=128,activation='relu',kernel_initializer='he_normal'))\n",
        "    model.add(Dropout(0.5))\n",
        "    model.add(Dense(units= 64,activation='relu',kernel_initializer='he_normal'))\n",
        "    model.add(Dropout(0.25))\n",
        "    model.add(Dense(units= 32,activation='relu',kernel_initializer='he_normal'))\n",
        "    model.add(Dense(units=7,activation='softmax'))#Output layer, the activation function is softmax\n",
        "\n",
        "    model.compile(optimizer='adam',loss='categorical_crossentropy',metrics=['accuracy'])\n",
        "\n",
        "    return model"
      ],
      "metadata": {
        "id": "n-O_YM_0Lh1o"
      },
      "execution_count": 14,
      "outputs": []
    },
    {
      "cell_type": "code",
      "source": [
        "model = build_model()\n",
        "print(model.summary())"
      ],
      "metadata": {
        "colab": {
          "base_uri": "https://localhost:8080/"
        },
        "id": "5Oq2IQbPLx6l",
        "outputId": "a1cefe4d-a781-4eb4-8e86-948b1b89c551"
      },
      "execution_count": null,
      "outputs": [
        {
          "output_type": "stream",
          "name": "stdout",
          "text": [
            "Model: \"sequential_1\"\n",
            "_________________________________________________________________\n",
            " Layer (type)                Output Shape              Param #   \n",
            "=================================================================\n",
            " conv2d_5 (Conv2D)           (None, 48, 48, 64)        640       \n",
            "                                                                 \n",
            " max_pooling2d_5 (MaxPooling  (None, 24, 24, 64)       0         \n",
            " 2D)                                                             \n",
            "                                                                 \n",
            " conv2d_6 (Conv2D)           (None, 24, 24, 64)        36928     \n",
            "                                                                 \n",
            " max_pooling2d_6 (MaxPooling  (None, 12, 12, 64)       0         \n",
            " 2D)                                                             \n",
            "                                                                 \n",
            " conv2d_7 (Conv2D)           (None, 12, 12, 64)        36928     \n",
            "                                                                 \n",
            " max_pooling2d_7 (MaxPooling  (None, 6, 6, 64)         0         \n",
            " 2D)                                                             \n",
            "                                                                 \n",
            " conv2d_8 (Conv2D)           (None, 6, 6, 64)          36928     \n",
            "                                                                 \n",
            " max_pooling2d_8 (MaxPooling  (None, 3, 3, 64)         0         \n",
            " 2D)                                                             \n",
            "                                                                 \n",
            " conv2d_9 (Conv2D)           (None, 3, 3, 64)          36928     \n",
            "                                                                 \n",
            " max_pooling2d_9 (MaxPooling  (None, 1, 1, 64)         0         \n",
            " 2D)                                                             \n",
            "                                                                 \n",
            " flatten_1 (Flatten)         (None, 64)                0         \n",
            "                                                                 \n",
            " dense_4 (Dense)             (None, 128)               8320      \n",
            "                                                                 \n",
            " dropout_2 (Dropout)         (None, 128)               0         \n",
            "                                                                 \n",
            " dense_5 (Dense)             (None, 64)                8256      \n",
            "                                                                 \n",
            " dropout_3 (Dropout)         (None, 64)                0         \n",
            "                                                                 \n",
            " dense_6 (Dense)             (None, 32)                2080      \n",
            "                                                                 \n",
            " dense_7 (Dense)             (None, 7)                 231       \n",
            "                                                                 \n",
            "=================================================================\n",
            "Total params: 167,239\n",
            "Trainable params: 167,239\n",
            "Non-trainable params: 0\n",
            "_________________________________________________________________\n",
            "None\n"
          ]
        }
      ]
    },
    {
      "cell_type": "code",
      "source": [
        "hist = model.fit(x=training_set,validation_data=test_set,epochs=60,batch_size=64)\n",
        "#The model performs 60 iterations, and the number of samples processed each time is 64"
      ],
      "metadata": {
        "colab": {
          "base_uri": "https://localhost:8080/",
          "height": 183
        },
        "id": "AFpgW7UcL06w",
        "outputId": "0b92a1a8-7978-41ca-d2d5-43068d03452d"
      },
      "execution_count": 2,
      "outputs": [
        {
          "output_type": "error",
          "ename": "NameError",
          "evalue": "ignored",
          "traceback": [
            "\u001b[0;31m---------------------------------------------------------------------------\u001b[0m",
            "\u001b[0;31mNameError\u001b[0m                                 Traceback (most recent call last)",
            "\u001b[0;32m<ipython-input-2-14fc0c80f7e0>\u001b[0m in \u001b[0;36m<module>\u001b[0;34m()\u001b[0m\n\u001b[0;32m----> 1\u001b[0;31m \u001b[0mhist\u001b[0m \u001b[0;34m=\u001b[0m \u001b[0mmodel\u001b[0m\u001b[0;34m.\u001b[0m\u001b[0mfit\u001b[0m\u001b[0;34m(\u001b[0m\u001b[0mx\u001b[0m\u001b[0;34m=\u001b[0m\u001b[0mtraining_set\u001b[0m\u001b[0;34m,\u001b[0m\u001b[0mvalidation_data\u001b[0m\u001b[0;34m=\u001b[0m\u001b[0mtest_set\u001b[0m\u001b[0;34m,\u001b[0m\u001b[0mepochs\u001b[0m\u001b[0;34m=\u001b[0m\u001b[0;36m60\u001b[0m\u001b[0;34m,\u001b[0m\u001b[0mbatch_size\u001b[0m\u001b[0;34m=\u001b[0m\u001b[0;36m64\u001b[0m\u001b[0;34m)\u001b[0m\u001b[0;34m\u001b[0m\u001b[0;34m\u001b[0m\u001b[0m\n\u001b[0m\u001b[1;32m      2\u001b[0m \u001b[0;31m#The model performs 60 iterations, and the number of samples processed each time is 64\u001b[0m\u001b[0;34m\u001b[0m\u001b[0;34m\u001b[0m\u001b[0;34m\u001b[0m\u001b[0m\n",
            "\u001b[0;31mNameError\u001b[0m: name 'model' is not defined"
          ]
        }
      ]
    },
    {
      "cell_type": "code",
      "source": [
        " model.save('model_2.h5')"
      ],
      "metadata": {
        "id": "XSkPupFYL-Fj",
        "colab": {
          "base_uri": "https://localhost:8080/",
          "height": 165
        },
        "outputId": "e59cbca6-e443-4246-cd9e-f1f4fc1de0ab"
      },
      "execution_count": 1,
      "outputs": [
        {
          "output_type": "error",
          "ename": "NameError",
          "evalue": "ignored",
          "traceback": [
            "\u001b[0;31m---------------------------------------------------------------------------\u001b[0m",
            "\u001b[0;31mNameError\u001b[0m                                 Traceback (most recent call last)",
            "\u001b[0;32m<ipython-input-1-e298d6f1f300>\u001b[0m in \u001b[0;36m<module>\u001b[0;34m()\u001b[0m\n\u001b[0;32m----> 1\u001b[0;31m \u001b[0mmodel\u001b[0m\u001b[0;34m.\u001b[0m\u001b[0msave\u001b[0m\u001b[0;34m(\u001b[0m\u001b[0;34m'model_2.h5'\u001b[0m\u001b[0;34m)\u001b[0m\u001b[0;34m\u001b[0m\u001b[0;34m\u001b[0m\u001b[0m\n\u001b[0m",
            "\u001b[0;31mNameError\u001b[0m: name 'model' is not defined"
          ]
        }
      ]
    },
    {
      "cell_type": "code",
      "source": [
        "opDict = {0:'Angry',1:'Disgust',2:'Fear',3:'Happy',4:'Neutral',5:'Sad',6:'Surprise'}"
      ],
      "metadata": {
        "id": "fdMnftjrMDYI"
      },
      "execution_count": null,
      "outputs": []
    },
    {
      "cell_type": "code",
      "source": [
        "from keras.preprocessing import image\n",
        "import matplotlib.pyplot as plt\n",
        "img = image.load_img(\"/content/AI/test/sad/PrivateTest_10247676.jpg\",target_size=(48,48),color_mode=\"grayscale\")\n",
        "img = np.array(img)\n",
        "plt.imshow(img)\n",
        "print(img.shape)\n",
        "\n",
        "img = np.expand_dims(img, axis=0)\n",
        "from keras.models import load_model\n",
        "print(img.shape)\n",
        "img = img.reshape(1,48,48,1)\n",
        "saved_model = load_model(\"./model_2.h5\")\n",
        "result = saved_model.predict(img)\n",
        "result=list(result[0])\n",
        "    \n",
        "img_index = result.index(max(result))\n",
        "print(img_index)\n",
        "print(opDict[img_index])\n",
        "plt.show()"
      ],
      "metadata": {
        "colab": {
          "base_uri": "https://localhost:8080/",
          "height": 336
        },
        "id": "jeI5AvbYVaYW",
        "outputId": "8d345d9e-c15e-4b33-a282-bfbd63b3f642"
      },
      "execution_count": null,
      "outputs": [
        {
          "output_type": "stream",
          "name": "stdout",
          "text": [
            "(48, 48)\n",
            "(1, 48, 48)\n",
            "6\n",
            "Surprise\n"
          ]
        },
        {
          "output_type": "display_data",
          "data": {
            "image/png": "[encoded data removed]",
            "text/plain": [
              "<Figure size 432x288 with 1 Axes>"
            ]
          },
          "metadata": {
            "needs_background": "light"
          }
        }
      ]
    },
    {
      "cell_type": "code",
      "source": [
        "num_epochs = 10\n",
        "STEP_SIZE_TRAIN = training_set.n//training_set.batch_size\n",
        "STEP_SIZE_VAL   = test_set.n//test_set.batch_size"
      ],
      "metadata": {
        "id": "mFG_Q7EdeJVd"
      },
      "execution_count": null,
      "outputs": []
    },
    {
      "cell_type": "code",
      "source": [
        "from tensorflow.keras import models, layers, regularizers\n",
        "input_shape = (48,48,1) # img_rows, img_colums, color_channels\n",
        "num_classes = 7\n",
        "model_ann = Sequential()\n",
        "model_ann.add(layers.Dense(32, input_shape=input_shape, activation='relu'))\n",
        "model_ann.add(layers.Dropout(0.8))\n",
        "model_ann.add(layers.Dense(64, activation='relu'))\n",
        "model_ann.add(layers.Dropout(0.8))\n",
        "model_ann.add(layers.Flatten())\n",
        "model_ann.add(layers.Dense(7, activation='softmax'))\n",
        "\n",
        "model_ann.summary()"
      ],
      "metadata": {
        "colab": {
          "base_uri": "https://localhost:8080/"
        },
        "id": "mL70h9ifexP5",
        "outputId": "36f70a3c-ad03-4522-a1d2-6e36897dfb26"
      },
      "execution_count": null,
      "outputs": [
        {
          "output_type": "stream",
          "name": "stdout",
          "text": [
            "Model: \"sequential_3\"\n",
            "_________________________________________________________________\n",
            " Layer (type)                Output Shape              Param #   \n",
            "=================================================================\n",
            " dense_4 (Dense)             (None, 48, 48, 32)        64        \n",
            "                                                                 \n",
            " dropout_2 (Dropout)         (None, 48, 48, 32)        0         \n",
            "                                                                 \n",
            " dense_5 (Dense)             (None, 48, 48, 64)        2112      \n",
            "                                                                 \n",
            " dropout_3 (Dropout)         (None, 48, 48, 64)        0         \n",
            "                                                                 \n",
            " flatten_1 (Flatten)         (None, 147456)            0         \n",
            "                                                                 \n",
            " dense_6 (Dense)             (None, 7)                 1032199   \n",
            "                                                                 \n",
            "=================================================================\n",
            "Total params: 1,034,375\n",
            "Trainable params: 1,034,375\n",
            "Non-trainable params: 0\n",
            "_________________________________________________________________\n"
          ]
        }
      ]
    },
    {
      "cell_type": "code",
      "source": [
        "model_ann.compile(loss='binary_crossentropy', optimizer='adam', metrics=['accuracy'])"
      ],
      "metadata": {
        "id": "ksIMr1uee5kE"
      },
      "execution_count": null,
      "outputs": []
    },
    {
      "cell_type": "code",
      "source": [
        "batch_size = 64\n",
        "history = model_ann.fit(x=training_set, steps_per_epoch=STEP_SIZE_TRAIN, epochs=num_epochs, batch_size=batch_size, validation_data=test_set, validation_steps=STEP_SIZE_VAL)\n",
        "history"
      ],
      "metadata": {
        "colab": {
          "base_uri": "https://localhost:8080/"
        },
        "id": "BtssSjldeqPY",
        "outputId": "cd138a88-d7a5-4595-ffef-23f0551a2462"
      },
      "execution_count": null,
      "outputs": [
        {
          "output_type": "stream",
          "name": "stdout",
          "text": [
            "Epoch 1/10\n",
            "897/897 [==============================] - 162s 179ms/step - loss: 0.3915 - accuracy: 0.2714 - val_loss: 0.4457 - val_accuracy: 0.2677\n",
            "Epoch 2/10\n",
            "897/897 [==============================] - 155s 173ms/step - loss: 0.3752 - accuracy: 0.3025 - val_loss: 0.4293 - val_accuracy: 0.3097\n",
            "Epoch 3/10\n",
            "897/897 [==============================] - 154s 172ms/step - loss: 0.3732 - accuracy: 0.3102 - val_loss: 0.4191 - val_accuracy: 0.3271\n",
            "Epoch 4/10\n",
            "897/897 [==============================] - 153s 171ms/step - loss: 0.3722 - accuracy: 0.3142 - val_loss: 0.4291 - val_accuracy: 0.3239\n",
            "Epoch 5/10\n",
            "897/897 [==============================] - 154s 171ms/step - loss: 0.3715 - accuracy: 0.3173 - val_loss: 0.4315 - val_accuracy: 0.3387\n",
            "Epoch 6/10\n",
            "897/897 [==============================] - 160s 179ms/step - loss: 0.3708 - accuracy: 0.3188 - val_loss: 0.4393 - val_accuracy: 0.3397\n",
            "Epoch 7/10\n",
            "897/897 [==============================] - 153s 171ms/step - loss: 0.3709 - accuracy: 0.3195 - val_loss: 0.4057 - val_accuracy: 0.3341\n",
            "Epoch 8/10\n",
            "897/897 [==============================] - 153s 170ms/step - loss: 0.3705 - accuracy: 0.3208 - val_loss: 0.4245 - val_accuracy: 0.3502\n",
            "Epoch 9/10\n",
            "897/897 [==============================] - 154s 172ms/step - loss: 0.3694 - accuracy: 0.3216 - val_loss: 0.4251 - val_accuracy: 0.3443\n",
            "Epoch 10/10\n",
            "897/897 [==============================] - 155s 173ms/step - loss: 0.3695 - accuracy: 0.3250 - val_loss: 0.4064 - val_accuracy: 0.3238\n"
          ]
        },
        {
          "output_type": "execute_result",
          "data": {
            "text/plain": [
              "<keras.callbacks.History at 0x7f3a1ec6a350>"
            ]
          },
          "metadata": {},
          "execution_count": 23
        }
      ]
    },
    {
      "cell_type": "code",
      "source": [
        "models.save_model(model_ann, 'ANNmodelfinal.h5')\n"
      ],
      "metadata": {
        "id": "TwDLuq9QflWz"
      },
      "execution_count": null,
      "outputs": []
    },
    {
      "cell_type": "code",
      "source": [
        "ann_score = model_ann.evaluate_generator(test_set, steps=STEP_SIZE_VAL) \n",
        "print('Test loss: ', ann_score[0])\n",
        "print('Test accuracy: ', ann_score[1])"
      ],
      "metadata": {
        "colab": {
          "base_uri": "https://localhost:8080/"
        },
        "id": "abGaTpimfoN-",
        "outputId": "580a79fa-3e6e-4da2-d081-7fbb50c3ae61"
      },
      "execution_count": null,
      "outputs": [
        {
          "output_type": "stream",
          "name": "stderr",
          "text": [
            "/usr/local/lib/python3.7/dist-packages/ipykernel_launcher.py:1: UserWarning: `Model.evaluate_generator` is deprecated and will be removed in a future version. Please use `Model.evaluate`, which supports generators.\n",
            "  \"\"\"Entry point for launching an IPython kernel.\n"
          ]
        },
        {
          "output_type": "stream",
          "name": "stdout",
          "text": [
            "Test loss:  0.40641674399375916\n",
            "Test accuracy:  0.3239397406578064\n"
          ]
        }
      ]
    },
    {
      "cell_type": "code",
      "source": [
        "#Test Part\n",
        "from keras.preprocessing import image\n",
        "\n",
        "\n",
        "img = image.load_img(\"/content/AI/test/sad/PrivateTest_10247676.jpg\",target_size = (48,48),color_mode = \"grayscale\")\n",
        "img = np.array(img)\n",
        "plt.imshow(img)\n",
        "print(img.shape)"
      ],
      "metadata": {
        "colab": {
          "base_uri": "https://localhost:8080/",
          "height": 284
        },
        "id": "jaI-Ak-ifqI2",
        "outputId": "f573c737-2694-41de-a2b4-bd461aa57ca3"
      },
      "execution_count": null,
      "outputs": [
        {
          "output_type": "stream",
          "name": "stdout",
          "text": [
            "(48, 48)\n"
          ]
        },
        {
          "output_type": "display_data",
          "data": {
            "image/png": "[encoded data removed]",
            "text/plain": [
              "<Figure size 432x288 with 1 Axes>"
            ]
          },
          "metadata": {
            "needs_background": "light"
          }
        }
      ]
    },
    {
      "cell_type": "code",
      "source": [
        "from keras.preprocessing import image\n",
        "import matplotlib.pyplot as plt\n",
        "img = image.load_img(\"/content/AI/test/sad/PrivateTest_10247676.jpg\",target_size=(48,48),color_mode=\"grayscale\")\n",
        "img = np.array(img)\n",
        "plt.imshow(img)\n",
        "print(img.shape)\n",
        "\n",
        "img = np.expand_dims(img, axis=0)\n",
        "from keras.models import load_model\n",
        "print(img.shape)\n",
        "img = img.reshape(1,48,48,1)\n",
        "saved_model = load_model(\"ANNmodelfinal.h5\")\n",
        "result = saved_model.predict(img)\n",
        "result=list(result[0])\n",
        "    \n",
        "img_index = result.index(max(result))\n",
        "print(img_index)\n",
        "print(opDict[img_index])\n",
        "plt.show()"
      ],
      "metadata": {
        "colab": {
          "base_uri": "https://localhost:8080/",
          "height": 374
        },
        "id": "GgNew9EgvJD0",
        "outputId": "f547992b-20be-43f6-b6b8-58fdddd9bfa5"
      },
      "execution_count": null,
      "outputs": [
        {
          "output_type": "stream",
          "name": "stdout",
          "text": [
            "(48, 48)\n",
            "(1, 48, 48)\n",
            "WARNING:tensorflow:5 out of the last 5 calls to <function Model.make_predict_function.<locals>.predict_function at 0x7f3a1fcbb320> triggered tf.function retracing. Tracing is expensive and the excessive number of tracings could be due to (1) creating @tf.function repeatedly in a loop, (2) passing tensors with different shapes, (3) passing Python objects instead of tensors. For (1), please define your @tf.function outside of the loop. For (2), @tf.function has experimental_relax_shapes=True option that relaxes argument shapes that can avoid unnecessary retracing. For (3), please refer to https://www.tensorflow.org/guide/function#controlling_retracing and https://www.tensorflow.org/api_docs/python/tf/function for  more details.\n",
            "0\n",
            "Angry\n"
          ]
        },
        {
          "output_type": "display_data",
          "data": {
            "image/png": "[encoded data removed]",
            "text/plain": [
              "<Figure size 432x288 with 1 Axes>"
            ]
          },
          "metadata": {
            "needs_background": "light"
          }
        }
      ]
    },
    {
      "cell_type": "code",
      "source": [
        "label_dict = {0:'Angry',1:'Disgust',2:'Fear',3:'Happy',4:'Neutral',5:'Sad',6:'Surprise'}\n"
      ],
      "metadata": {
        "id": "Y2deyG_nftan"
      },
      "execution_count": null,
      "outputs": []
    },
    {
      "cell_type": "code",
      "source": [
        "img = np.expand_dims(img,axis = 0) #makes image shape (1,48,48)\n",
        "img = img.reshape(1,48,48,1)\n",
        "result = model_ann.predict(img)\n",
        "result = list(result[0])\n",
        "print(result)\n"
      ],
      "metadata": {
        "id": "Pls0Bf_yfwBY"
      },
      "execution_count": null,
      "outputs": []
    },
    {
      "cell_type": "code",
      "source": [
        "img_index = result.index(max(result))\n",
        "print(label_dict[img_index])\n",
        "plt.show()"
      ],
      "metadata": {
        "id": "IE3gfLENfx5m"
      },
      "execution_count": null,
      "outputs": []
    }
  ]
}